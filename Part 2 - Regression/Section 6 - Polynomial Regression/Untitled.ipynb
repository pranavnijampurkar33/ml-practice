{
 "cells": [
  {
   "cell_type": "code",
   "execution_count": 7,
   "metadata": {},
   "outputs": [
    {
     "name": "stdin",
     "output_type": "stream",
     "text": [
      "Enter the string:  BANANA\n"
     ]
    },
    {
     "name": "stdout",
     "output_type": "stream",
     "text": [
      "Total number of substrings are:  21\n"
     ]
    }
   ],
   "source": [
    "#  taking string as input \n",
    "string = input('Enter the string: ')\n",
    "\n",
    "n = len(string)\n",
    "vowel = ['A','E','I','O','U']\n",
    "l = len(string)\n",
    "\n",
    "total = (n*(n+1)) // 2\n",
    "print('Total number of substrings are: ',total)"
   ]
  },
  {
   "cell_type": "code",
   "execution_count": 8,
   "metadata": {},
   "outputs": [
    {
     "name": "stdout",
     "output_type": "stream",
     "text": [
      "Stuart 12\n"
     ]
    }
   ],
   "source": [
    "stuart = 0\n",
    "kevin = 0\n",
    "for i in range(n):\n",
    "    \n",
    "        if string[i] in vowel:\n",
    "            kevin += 1\n",
    "        else:\n",
    "            stuart += 1\n",
    "if kevin > stuart:\n",
    "    print(f'Kevin {kevin:d}')\n",
    "elif stuart > kevin:\n",
    "    print(f'Stuart {stuart:d}')\n",
    "else:\n",
    "    print('Draw')"
   ]
  },
  {
   "cell_type": "code",
   "execution_count": null,
   "metadata": {},
   "outputs": [],
   "source": []
  }
 ],
 "metadata": {
  "kernelspec": {
   "display_name": "Python 3",
   "language": "python",
   "name": "python3"
  },
  "language_info": {
   "codemirror_mode": {
    "name": "ipython",
    "version": 3
   },
   "file_extension": ".py",
   "mimetype": "text/x-python",
   "name": "python",
   "nbconvert_exporter": "python",
   "pygments_lexer": "ipython3",
   "version": "3.8.10"
  }
 },
 "nbformat": 4,
 "nbformat_minor": 4
}
