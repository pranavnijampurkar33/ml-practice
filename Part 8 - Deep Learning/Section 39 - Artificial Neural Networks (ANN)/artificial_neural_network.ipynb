{
 "cells": [
  {
   "cell_type": "markdown",
   "metadata": {
    "colab_type": "text",
    "id": "lP6JLo1tGNBg"
   },
   "source": [
    "# Artificial Neural Network"
   ]
  },
  {
   "cell_type": "markdown",
   "metadata": {
    "colab_type": "text",
    "id": "gWZyYmS_UE_L"
   },
   "source": [
    "### Importing the libraries"
   ]
  },
  {
   "cell_type": "code",
   "execution_count": 29,
   "metadata": {},
   "outputs": [],
   "source": [
    "import numpy as np\n",
    "import tensorflow as tf\n",
    "import pandas as pd"
   ]
  },
  {
   "cell_type": "code",
   "execution_count": 30,
   "metadata": {},
   "outputs": [
    {
     "data": {
      "text/plain": [
       "'2.5.0-rc0'"
      ]
     },
     "execution_count": 30,
     "metadata": {},
     "output_type": "execute_result"
    }
   ],
   "source": [
    "tf.__version__"
   ]
  },
  {
   "cell_type": "markdown",
   "metadata": {
    "colab_type": "text",
    "id": "1E0Q3aoKUCRX"
   },
   "source": [
    "## Part 1 - Data Preprocessing"
   ]
  },
  {
   "cell_type": "markdown",
   "metadata": {
    "colab_type": "text",
    "id": "cKWAkFVGUU0Z"
   },
   "source": [
    "### Importing the dataset"
   ]
  },
  {
   "cell_type": "code",
   "execution_count": 31,
   "metadata": {},
   "outputs": [],
   "source": [
    "dataset = pd.read_csv('Churn_Modelling.csv')\n",
    "X = dataset.iloc[:, 3:-1].values\n",
    "y = dataset.iloc[:, -1].values"
   ]
  },
  {
   "cell_type": "code",
   "execution_count": 32,
   "metadata": {},
   "outputs": [
    {
     "name": "stdout",
     "output_type": "stream",
     "text": [
      "[[619 'France' 'Female' ... 1 1 101348.88]\n",
      " [608 'Spain' 'Female' ... 0 1 112542.58]\n",
      " [502 'France' 'Female' ... 1 0 113931.57]\n",
      " ...\n",
      " [709 'France' 'Female' ... 0 1 42085.58]\n",
      " [772 'Germany' 'Male' ... 1 0 92888.52]\n",
      " [792 'France' 'Female' ... 1 0 38190.78]]\n"
     ]
    }
   ],
   "source": [
    "print(X)"
   ]
  },
  {
   "cell_type": "code",
   "execution_count": 33,
   "metadata": {},
   "outputs": [
    {
     "name": "stdout",
     "output_type": "stream",
     "text": [
      "[1 0 1 ... 1 1 0]\n"
     ]
    }
   ],
   "source": [
    "print(y)"
   ]
  },
  {
   "cell_type": "markdown",
   "metadata": {
    "colab_type": "text",
    "id": "N6bQ0UgSU-NJ"
   },
   "source": [
    "### Encoding categorical data"
   ]
  },
  {
   "cell_type": "markdown",
   "metadata": {
    "colab_type": "text",
    "id": "le5MJreAbW52"
   },
   "source": [
    "Label Encoding the \"Gender\" column"
   ]
  },
  {
   "cell_type": "code",
   "execution_count": 34,
   "metadata": {},
   "outputs": [],
   "source": [
    "from sklearn.preprocessing import LabelEncoder\n",
    "le = LabelEncoder()\n",
    "X[:, 2] = le.fit_transform(X[:, 2])"
   ]
  },
  {
   "cell_type": "code",
   "execution_count": 35,
   "metadata": {},
   "outputs": [
    {
     "name": "stdout",
     "output_type": "stream",
     "text": [
      "[0 0 0 ... 0 1 0]\n"
     ]
    }
   ],
   "source": [
    "print(X[:, 2])"
   ]
  },
  {
   "cell_type": "markdown",
   "metadata": {
    "colab_type": "text",
    "id": "CUxGZezpbMcb"
   },
   "source": [
    "One Hot Encoding the \"Geography\" column"
   ]
  },
  {
   "cell_type": "code",
   "execution_count": 36,
   "metadata": {},
   "outputs": [],
   "source": [
    "from sklearn.compose import ColumnTransformer\n",
    "from sklearn.preprocessing import OneHotEncoder\n",
    "ct = ColumnTransformer(transformers = [('encoder', OneHotEncoder(), [1])], remainder='passthrough')\n",
    "X = np.array(ct.fit_transform(X))"
   ]
  },
  {
   "cell_type": "code",
   "execution_count": 37,
   "metadata": {},
   "outputs": [
    {
     "name": "stdout",
     "output_type": "stream",
     "text": [
      "[0.0 0.0 1.0 608 0 41 1 83807.86 1 0 1 112542.58]\n"
     ]
    }
   ],
   "source": [
    "print(X[1,:])"
   ]
  },
  {
   "cell_type": "markdown",
   "metadata": {
    "colab_type": "text",
    "id": "vHol938cW8zd"
   },
   "source": [
    "### Splitting the dataset into the Training set and Test set"
   ]
  },
  {
   "cell_type": "code",
   "execution_count": 38,
   "metadata": {},
   "outputs": [],
   "source": [
    "from sklearn.model_selection import train_test_split\n",
    "X_train, X_test, y_train, y_test = train_test_split(X, y, train_size=0.2, random_state=0)"
   ]
  },
  {
   "cell_type": "markdown",
   "metadata": {
    "colab_type": "text",
    "id": "RE_FcHyfV3TQ"
   },
   "source": [
    "### Feature Scaling"
   ]
  },
  {
   "cell_type": "code",
   "execution_count": 39,
   "metadata": {},
   "outputs": [],
   "source": [
    "from sklearn.preprocessing import StandardScaler\n",
    "sc = StandardScaler()\n",
    "X_train = sc.fit_transform(X_train)\n",
    "X_test = sc.fit_transform(X_test)"
   ]
  },
  {
   "cell_type": "code",
   "execution_count": 40,
   "metadata": {},
   "outputs": [
    {
     "data": {
      "text/plain": [
       "array([[-1.00150113,  1.71887259, -0.57176909, ...,  0.64434291,\n",
       "         0.97774752,  1.6164046 ],\n",
       "       [ 0.99850112, -0.58177669, -0.57176909, ...,  0.64434291,\n",
       "        -1.02275892,  0.49757744],\n",
       "       [-1.00150113, -0.58177669,  1.7489578 , ...,  0.64434291,\n",
       "         0.97774752, -0.42625077],\n",
       "       ...,\n",
       "       [-1.00150113,  1.71887259, -0.57176909, ...,  0.64434291,\n",
       "         0.97774752, -1.57432676],\n",
       "       [-1.00150113, -0.58177669,  1.7489578 , ..., -1.55196866,\n",
       "        -1.02275892,  1.65214902],\n",
       "       [-1.00150113,  1.71887259, -0.57176909, ..., -1.55196866,\n",
       "         0.97774752, -1.10217561]])"
      ]
     },
     "execution_count": 40,
     "metadata": {},
     "output_type": "execute_result"
    }
   ],
   "source": [
    "X_test"
   ]
  },
  {
   "cell_type": "markdown",
   "metadata": {
    "colab_type": "text",
    "id": "-zfEzkRVXIwF"
   },
   "source": [
    "## Part 2 - Building the ANN"
   ]
  },
  {
   "cell_type": "markdown",
   "metadata": {
    "colab_type": "text",
    "id": "KvdeScabXtlB"
   },
   "source": [
    "### Initializing the ANN"
   ]
  },
  {
   "cell_type": "code",
   "execution_count": 41,
   "metadata": {},
   "outputs": [],
   "source": [
    "ann = tf.keras.models.Sequential()"
   ]
  },
  {
   "cell_type": "markdown",
   "metadata": {
    "colab_type": "text",
    "id": "rP6urV6SX7kS"
   },
   "source": [
    "### Adding the input layer and the first hidden layer"
   ]
  },
  {
   "cell_type": "code",
   "execution_count": 42,
   "metadata": {},
   "outputs": [],
   "source": [
    "ann.add(tf.keras.layers.Dense(units = 6, activation = 'relu'))"
   ]
  },
  {
   "cell_type": "markdown",
   "metadata": {
    "colab_type": "text",
    "id": "BELWAc_8YJze"
   },
   "source": [
    "### Adding the second hidden layer"
   ]
  },
  {
   "cell_type": "code",
   "execution_count": 43,
   "metadata": {},
   "outputs": [],
   "source": [
    "ann.add(tf.keras.layers.Dense(units = 6, activation = 'relu'))"
   ]
  },
  {
   "cell_type": "markdown",
   "metadata": {
    "colab_type": "text",
    "id": "OyNEe6RXYcU4"
   },
   "source": [
    "### Adding the output layer"
   ]
  },
  {
   "cell_type": "code",
   "execution_count": 44,
   "metadata": {},
   "outputs": [],
   "source": [
    "ann.add(tf.keras.layers.Dense(units = 1, activation = 'sigmoid'))"
   ]
  },
  {
   "cell_type": "markdown",
   "metadata": {
    "colab_type": "text",
    "id": "JT4u2S1_Y4WG"
   },
   "source": [
    "## Part 3 - Training the ANN"
   ]
  },
  {
   "cell_type": "markdown",
   "metadata": {
    "colab_type": "text",
    "id": "8GWlJChhY_ZI"
   },
   "source": [
    "### Compiling the ANN"
   ]
  },
  {
   "cell_type": "code",
   "execution_count": 45,
   "metadata": {},
   "outputs": [],
   "source": [
    "ann.compile(optimizer='adam',\n",
    "           loss='binary_crossentropy',\n",
    "           metrics=['accuracy'])"
   ]
  },
  {
   "cell_type": "markdown",
   "metadata": {
    "colab_type": "text",
    "id": "0QR_G5u7ZLSM"
   },
   "source": [
    "### Training the ANN on the Training set"
   ]
  },
  {
   "cell_type": "code",
   "execution_count": 46,
   "metadata": {},
   "outputs": [
    {
     "name": "stdout",
     "output_type": "stream",
     "text": [
      "Epoch 1/100\n",
      "63/63 [==============================] - 0s 547us/step - loss: 0.7067 - accuracy: 0.5118\n",
      "Epoch 2/100\n",
      "63/63 [==============================] - 0s 595us/step - loss: 0.6066 - accuracy: 0.7529\n",
      "Epoch 3/100\n",
      "63/63 [==============================] - 0s 611us/step - loss: 0.5578 - accuracy: 0.7873\n",
      "Epoch 4/100\n",
      "63/63 [==============================] - 0s 627us/step - loss: 0.5275 - accuracy: 0.7809\n",
      "Epoch 5/100\n",
      "63/63 [==============================] - 0s 547us/step - loss: 0.4995 - accuracy: 0.7921\n",
      "Epoch 6/100\n",
      "63/63 [==============================] - 0s 611us/step - loss: 0.4839 - accuracy: 0.7925\n",
      "Epoch 7/100\n",
      "63/63 [==============================] - 0s 579us/step - loss: 0.4635 - accuracy: 0.8027\n",
      "Epoch 8/100\n",
      "63/63 [==============================] - 0s 547us/step - loss: 0.4557 - accuracy: 0.8031\n",
      "Epoch 9/100\n",
      "63/63 [==============================] - 0s 579us/step - loss: 0.4573 - accuracy: 0.8018\n",
      "Epoch 10/100\n",
      "63/63 [==============================] - 0s 740us/step - loss: 0.4503 - accuracy: 0.8022\n",
      "Epoch 11/100\n",
      "63/63 [==============================] - 0s 579us/step - loss: 0.4394 - accuracy: 0.8026\n",
      "Epoch 12/100\n",
      "63/63 [==============================] - 0s 543us/step - loss: 0.4472 - accuracy: 0.7959\n",
      "Epoch 13/100\n",
      "63/63 [==============================] - 0s 627us/step - loss: 0.4604 - accuracy: 0.7901\n",
      "Epoch 14/100\n",
      "63/63 [==============================] - 0s 563us/step - loss: 0.4591 - accuracy: 0.7884\n",
      "Epoch 15/100\n",
      "63/63 [==============================] - 0s 579us/step - loss: 0.4396 - accuracy: 0.8006\n",
      "Epoch 16/100\n",
      "63/63 [==============================] - 0s 563us/step - loss: 0.4234 - accuracy: 0.8064\n",
      "Epoch 17/100\n",
      "63/63 [==============================] - 0s 946us/step - loss: 0.4379 - accuracy: 0.8100\n",
      "Epoch 18/100\n",
      "63/63 [==============================] - 0s 885us/step - loss: 0.4163 - accuracy: 0.8162\n",
      "Epoch 19/100\n",
      "63/63 [==============================] - 0s 772us/step - loss: 0.4202 - accuracy: 0.8199\n",
      "Epoch 20/100\n",
      "63/63 [==============================] - 0s 595us/step - loss: 0.4082 - accuracy: 0.8209\n",
      "Epoch 21/100\n",
      "63/63 [==============================] - 0s 608us/step - loss: 0.4174 - accuracy: 0.8218\n",
      "Epoch 22/100\n",
      "63/63 [==============================] - 0s 611us/step - loss: 0.4353 - accuracy: 0.8061\n",
      "Epoch 23/100\n",
      "63/63 [==============================] - 0s 579us/step - loss: 0.4218 - accuracy: 0.8081\n",
      "Epoch 24/100\n",
      "63/63 [==============================] - 0s 643us/step - loss: 0.4208 - accuracy: 0.8149\n",
      "Epoch 25/100\n",
      "63/63 [==============================] - 0s 519us/step - loss: 0.4016 - accuracy: 0.8140\n",
      "Epoch 26/100\n",
      "63/63 [==============================] - 0s 627us/step - loss: 0.4166 - accuracy: 0.8198\n",
      "Epoch 27/100\n",
      "63/63 [==============================] - 0s 547us/step - loss: 0.4118 - accuracy: 0.8208\n",
      "Epoch 28/100\n",
      "63/63 [==============================] - 0s 676us/step - loss: 0.3803 - accuracy: 0.8443\n",
      "Epoch 29/100\n",
      "63/63 [==============================] - 0s 640us/step - loss: 0.4278 - accuracy: 0.8052\n",
      "Epoch 30/100\n",
      "63/63 [==============================] - 0s 611us/step - loss: 0.4009 - accuracy: 0.8244\n",
      "Epoch 31/100\n",
      "63/63 [==============================] - 0s 652us/step - loss: 0.4284 - accuracy: 0.8099\n",
      "Epoch 32/100\n",
      "63/63 [==============================] - 0s 563us/step - loss: 0.3980 - accuracy: 0.8280\n",
      "Epoch 33/100\n",
      "63/63 [==============================] - 0s 643us/step - loss: 0.3906 - accuracy: 0.8278\n",
      "Epoch 34/100\n",
      "63/63 [==============================] - 0s 558us/step - loss: 0.3863 - accuracy: 0.8299\n",
      "Epoch 35/100\n",
      "63/63 [==============================] - 0s 547us/step - loss: 0.3756 - accuracy: 0.8415\n",
      "Epoch 36/100\n",
      "63/63 [==============================] - 0s 563us/step - loss: 0.3844 - accuracy: 0.8307\n",
      "Epoch 37/100\n",
      "63/63 [==============================] - 0s 611us/step - loss: 0.3820 - accuracy: 0.8361\n",
      "Epoch 38/100\n",
      "63/63 [==============================] - 0s 660us/step - loss: 0.3812 - accuracy: 0.8400\n",
      "Epoch 39/100\n",
      "63/63 [==============================] - 0s 595us/step - loss: 0.3788 - accuracy: 0.8342\n",
      "Epoch 40/100\n",
      "63/63 [==============================] - 0s 660us/step - loss: 0.3596 - accuracy: 0.8480\n",
      "Epoch 41/100\n",
      "63/63 [==============================] - 0s 595us/step - loss: 0.3640 - accuracy: 0.8497\n",
      "Epoch 42/100\n",
      "63/63 [==============================] - 0s 563us/step - loss: 0.3694 - accuracy: 0.8364\n",
      "Epoch 43/100\n",
      "63/63 [==============================] - 0s 563us/step - loss: 0.3645 - accuracy: 0.8401\n",
      "Epoch 44/100\n",
      "63/63 [==============================] - 0s 579us/step - loss: 0.3862 - accuracy: 0.8276\n",
      "Epoch 45/100\n",
      "63/63 [==============================] - 0s 547us/step - loss: 0.3811 - accuracy: 0.8361\n",
      "Epoch 46/100\n",
      "63/63 [==============================] - 0s 643us/step - loss: 0.3596 - accuracy: 0.8378\n",
      "Epoch 47/100\n",
      "63/63 [==============================] - 0s 1ms/step - loss: 0.3689 - accuracy: 0.8413\n",
      "Epoch 48/100\n",
      "63/63 [==============================] - 0s 676us/step - loss: 0.3998 - accuracy: 0.8196\n",
      "Epoch 49/100\n",
      "63/63 [==============================] - 0s 724us/step - loss: 0.3676 - accuracy: 0.8379\n",
      "Epoch 50/100\n",
      "63/63 [==============================] - 0s 643us/step - loss: 0.3501 - accuracy: 0.8460\n",
      "Epoch 51/100\n",
      "63/63 [==============================] - 0s 595us/step - loss: 0.3723 - accuracy: 0.8403\n",
      "Epoch 52/100\n",
      "63/63 [==============================] - 0s 579us/step - loss: 0.3665 - accuracy: 0.8382\n",
      "Epoch 53/100\n",
      "63/63 [==============================] - 0s 595us/step - loss: 0.3797 - accuracy: 0.8285\n",
      "Epoch 54/100\n",
      "63/63 [==============================] - 0s 579us/step - loss: 0.3492 - accuracy: 0.8455\n",
      "Epoch 55/100\n",
      "63/63 [==============================] - 0s 585us/step - loss: 0.3760 - accuracy: 0.8372\n",
      "Epoch 56/100\n",
      "63/63 [==============================] - 0s 642us/step - loss: 0.3848 - accuracy: 0.8330\n",
      "Epoch 57/100\n",
      "63/63 [==============================] - 0s 563us/step - loss: 0.3619 - accuracy: 0.8349\n",
      "Epoch 58/100\n",
      "63/63 [==============================] - 0s 547us/step - loss: 0.3600 - accuracy: 0.8412\n",
      "Epoch 59/100\n",
      "63/63 [==============================] - 0s 595us/step - loss: 0.3699 - accuracy: 0.8318\n",
      "Epoch 60/100\n",
      "63/63 [==============================] - 0s 563us/step - loss: 0.3633 - accuracy: 0.8348\n",
      "Epoch 61/100\n",
      "63/63 [==============================] - 0s 579us/step - loss: 0.3689 - accuracy: 0.8386\n",
      "Epoch 62/100\n",
      "63/63 [==============================] - 0s 531us/step - loss: 0.3745 - accuracy: 0.8396\n",
      "Epoch 63/100\n",
      "63/63 [==============================] - 0s 579us/step - loss: 0.3713 - accuracy: 0.8327\n",
      "Epoch 64/100\n",
      "63/63 [==============================] - 0s 563us/step - loss: 0.3860 - accuracy: 0.8307\n",
      "Epoch 65/100\n",
      "63/63 [==============================] - 0s 595us/step - loss: 0.3634 - accuracy: 0.8382\n",
      "Epoch 66/100\n",
      "63/63 [==============================] - 0s 611us/step - loss: 0.4019 - accuracy: 0.8160\n",
      "Epoch 67/100\n",
      "63/63 [==============================] - 0s 627us/step - loss: 0.3678 - accuracy: 0.8373\n",
      "Epoch 68/100\n",
      "63/63 [==============================] - 0s 595us/step - loss: 0.3440 - accuracy: 0.8417\n",
      "Epoch 69/100\n",
      "63/63 [==============================] - 0s 563us/step - loss: 0.3727 - accuracy: 0.8322\n",
      "Epoch 70/100\n",
      "63/63 [==============================] - 0s 595us/step - loss: 0.3837 - accuracy: 0.8263\n",
      "Epoch 71/100\n",
      "63/63 [==============================] - 0s 577us/step - loss: 0.3690 - accuracy: 0.8375\n",
      "Epoch 72/100\n",
      "63/63 [==============================] - 0s 597us/step - loss: 0.3697 - accuracy: 0.8326\n",
      "Epoch 73/100\n",
      "63/63 [==============================] - 0s 615us/step - loss: 0.3749 - accuracy: 0.8381\n",
      "Epoch 74/100\n",
      "63/63 [==============================] - 0s 604us/step - loss: 0.3731 - accuracy: 0.8291\n",
      "Epoch 75/100\n",
      "63/63 [==============================] - 0s 595us/step - loss: 0.3735 - accuracy: 0.8296\n",
      "Epoch 76/100\n",
      "63/63 [==============================] - 0s 772us/step - loss: 0.3857 - accuracy: 0.8320\n",
      "Epoch 77/100\n",
      "63/63 [==============================] - 0s 724us/step - loss: 0.3628 - accuracy: 0.8369\n",
      "Epoch 78/100\n",
      "63/63 [==============================] - 0s 917us/step - loss: 0.3586 - accuracy: 0.8426\n",
      "Epoch 79/100\n",
      "63/63 [==============================] - 0s 563us/step - loss: 0.3627 - accuracy: 0.8390\n",
      "Epoch 80/100\n",
      "63/63 [==============================] - 0s 627us/step - loss: 0.3421 - accuracy: 0.8520\n",
      "Epoch 81/100\n",
      "63/63 [==============================] - 0s 547us/step - loss: 0.3653 - accuracy: 0.8379\n",
      "Epoch 82/100\n",
      "63/63 [==============================] - 0s 579us/step - loss: 0.3731 - accuracy: 0.8213\n",
      "Epoch 83/100\n",
      "63/63 [==============================] - 0s 531us/step - loss: 0.3628 - accuracy: 0.8460\n",
      "Epoch 84/100\n",
      "63/63 [==============================] - 0s 547us/step - loss: 0.3824 - accuracy: 0.8264\n",
      "Epoch 85/100\n",
      "63/63 [==============================] - 0s 595us/step - loss: 0.3631 - accuracy: 0.8382\n",
      "Epoch 86/100\n",
      "63/63 [==============================] - 0s 547us/step - loss: 0.3609 - accuracy: 0.8408\n",
      "Epoch 87/100\n",
      "63/63 [==============================] - 0s 611us/step - loss: 0.3785 - accuracy: 0.8320\n",
      "Epoch 88/100\n",
      "63/63 [==============================] - 0s 547us/step - loss: 0.3651 - accuracy: 0.8321\n",
      "Epoch 89/100\n",
      "63/63 [==============================] - 0s 547us/step - loss: 0.3733 - accuracy: 0.8341\n",
      "Epoch 90/100\n",
      "63/63 [==============================] - 0s 547us/step - loss: 0.3544 - accuracy: 0.8376\n",
      "Epoch 91/100\n",
      "63/63 [==============================] - 0s 611us/step - loss: 0.3353 - accuracy: 0.8461\n",
      "Epoch 92/100\n",
      "63/63 [==============================] - 0s 611us/step - loss: 0.3578 - accuracy: 0.8427\n",
      "Epoch 93/100\n",
      "63/63 [==============================] - 0s 595us/step - loss: 0.3578 - accuracy: 0.8404\n",
      "Epoch 94/100\n",
      "63/63 [==============================] - 0s 563us/step - loss: 0.3617 - accuracy: 0.8370\n",
      "Epoch 95/100\n",
      "63/63 [==============================] - 0s 579us/step - loss: 0.3662 - accuracy: 0.8343\n",
      "Epoch 96/100\n",
      "63/63 [==============================] - 0s 531us/step - loss: 0.3800 - accuracy: 0.8311\n",
      "Epoch 97/100\n",
      "63/63 [==============================] - 0s 611us/step - loss: 0.4009 - accuracy: 0.8189\n",
      "Epoch 98/100\n",
      "63/63 [==============================] - 0s 627us/step - loss: 0.3752 - accuracy: 0.8244\n",
      "Epoch 99/100\n",
      "63/63 [==============================] - 0s 611us/step - loss: 0.3673 - accuracy: 0.8423\n",
      "Epoch 100/100\n",
      "63/63 [==============================] - 0s 595us/step - loss: 0.3586 - accuracy: 0.8427\n"
     ]
    },
    {
     "data": {
      "text/plain": [
       "<tensorflow.python.keras.callbacks.History at 0x1e6afbf0c10>"
      ]
     },
     "execution_count": 46,
     "metadata": {},
     "output_type": "execute_result"
    }
   ],
   "source": [
    "ann.fit(X_train, y_train, batch_size=32, epochs=100)"
   ]
  },
  {
   "cell_type": "markdown",
   "metadata": {
    "colab_type": "text",
    "id": "tJj5k2MxZga3"
   },
   "source": [
    "## Part 4 - Making the predictions and evaluating the model"
   ]
  },
  {
   "cell_type": "markdown",
   "metadata": {
    "colab_type": "text",
    "id": "84QFoqGYeXHL"
   },
   "source": [
    "### Predicting the result of a single observation"
   ]
  },
  {
   "cell_type": "markdown",
   "metadata": {
    "colab_type": "text",
    "id": "CGRo3eacgDdC"
   },
   "source": [
    "**Homework**\n",
    "\n",
    "Use our ANN model to predict if the customer with the following informations will leave the bank: \n",
    "\n",
    "Geography: France\n",
    "\n",
    "Credit Score: 600\n",
    "\n",
    "Gender: Male\n",
    "\n",
    "Age: 40 years old\n",
    "\n",
    "Tenure: 3 years\n",
    "\n",
    "Balance: \\$ 60000\n",
    "\n",
    "Number of Products: 2\n",
    "\n",
    "Does this customer have a credit card? Yes\n",
    "\n",
    "Is this customer an Active Member: Yes\n",
    "\n",
    "Estimated Salary: \\$ 50000\n",
    "\n",
    "So, should we say goodbye to that customer?"
   ]
  },
  {
   "cell_type": "markdown",
   "metadata": {
    "colab_type": "text",
    "id": "ZhU1LTgPg-kH"
   },
   "source": [
    "**Solution**"
   ]
  },
  {
   "cell_type": "code",
   "execution_count": 47,
   "metadata": {},
   "outputs": [
    {
     "name": "stdout",
     "output_type": "stream",
     "text": [
      "[[False]]\n"
     ]
    }
   ],
   "source": [
    "print(ann.predict(sc.transform([[1, 0, 0, 600, 1, 40, 3, 60000, 2, 1, 1, 50000]])) > 0.5) ## Choosing the Threshold = 0.5"
   ]
  },
  {
   "cell_type": "markdown",
   "metadata": {
    "colab_type": "text",
    "id": "wGjx94g2n7OV"
   },
   "source": [
    "Therefore, our ANN model predicts that this customer stays in the bank!\n",
    "\n",
    "**Important note 1:** Notice that the values of the features were all input in a double pair of square brackets. That's because the \"predict\" method always expects a 2D array as the format of its inputs. And putting our values into a double pair of square brackets makes the input exactly a 2D array.\n",
    "\n",
    "**Important note 2:** Notice also that the \"France\" country was not input as a string in the last column but as \"1, 0, 0\" in the first three columns. That's because of course the predict method expects the one-hot-encoded values of the state, and as we see in the first row of the matrix of features X, \"France\" was encoded as \"1, 0, 0\". And be careful to include these values in the first three columns, because the dummy variables are always created in the first columns."
   ]
  },
  {
   "cell_type": "markdown",
   "metadata": {
    "colab_type": "text",
    "id": "u7yx47jPZt11"
   },
   "source": [
    "### Predicting the Test set results"
   ]
  },
  {
   "cell_type": "code",
   "execution_count": 48,
   "metadata": {},
   "outputs": [
    {
     "name": "stdout",
     "output_type": "stream",
     "text": [
      "[[0 0]\n",
      " [0 1]\n",
      " [0 0]\n",
      " ...\n",
      " [0 0]\n",
      " [0 0]\n",
      " [0 0]]\n"
     ]
    }
   ],
   "source": [
    "y_pred = ann.predict(X_test)\n",
    "y_pred = (y_pred > 0.5)\n",
    "print(np.concatenate((y_pred.reshape(len(y_pred), 1), y_test.reshape(len(y_test),1)),1))"
   ]
  },
  {
   "cell_type": "markdown",
   "metadata": {
    "colab_type": "text",
    "id": "o0oyfLWoaEGw"
   },
   "source": [
    "### Making the Confusion Matrix"
   ]
  },
  {
   "cell_type": "code",
   "execution_count": 49,
   "metadata": {},
   "outputs": [
    {
     "name": "stdout",
     "output_type": "stream",
     "text": [
      "[[6079  285]\n",
      " [1069  567]]\n"
     ]
    },
    {
     "data": {
      "text/plain": [
       "0.83075"
      ]
     },
     "execution_count": 49,
     "metadata": {},
     "output_type": "execute_result"
    }
   ],
   "source": [
    "from sklearn.metrics import confusion_matrix, accuracy_score\n",
    "cm = confusion_matrix(y_test, y_pred)\n",
    "print(cm)\n",
    "accuracy_score(y_test, y_pred)"
   ]
  },
  {
   "cell_type": "code",
   "execution_count": null,
   "metadata": {},
   "outputs": [],
   "source": []
  }
 ],
 "metadata": {
  "colab": {
   "authorship_tag": "ABX9TyMeRFWFoGrdaL5S3dx5MWmb",
   "collapsed_sections": [],
   "name": "artificial_neural_network.ipynb",
   "provenance": [],
   "toc_visible": true
  },
  "kernelspec": {
   "display_name": "Python 3",
   "language": "python",
   "name": "python3"
  },
  "language_info": {
   "codemirror_mode": {
    "name": "ipython",
    "version": 3
   },
   "file_extension": ".py",
   "mimetype": "text/x-python",
   "name": "python",
   "nbconvert_exporter": "python",
   "pygments_lexer": "ipython3",
   "version": "3.8.10"
  }
 },
 "nbformat": 4,
 "nbformat_minor": 4
}
